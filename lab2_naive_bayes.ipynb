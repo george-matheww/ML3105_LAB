{
  "cells": [
    {
      "cell_type": "markdown",
      "metadata": {
        "id": "gOQR_4PDPfmj"
      },
      "source": [
        "NAIVE BAYES CLASSIFIER"
      ]
    },
    {
      "cell_type": "code",
      "execution_count": 1,
      "metadata": {
        "id": "qIaCWa3uKDDk"
      },
      "outputs": [],
      "source": [
        "import pandas as pd\n",
        "import numpy as np\n",
        "import matplotlib.pyplot as plt\n",
        "from sklearn.model_selection import train_test_split\n",
        "from sklearn.naive_bayes import GaussianNB\n",
        "from sklearn import preprocessing\n",
        "from sklearn.metrics import mean_squared_error,confusion_matrix,recall_score,precision_score"
      ]
    },
    {
      "cell_type": "code",
      "execution_count": 2,
      "metadata": {
        "colab": {
          "base_uri": "https://localhost:8080/"
        },
        "id": "fu3BFIRkQU14",
        "outputId": "499b09bb-d6ea-49db-ac87-856864dbe1e3"
      },
      "outputs": [
        {
          "name": "stdout",
          "output_type": "stream",
          "text": [
            "the independent variables:\n",
            "     day   outlook  temp humidity\n",
            "0    D1     Sunny   Hot     High\n",
            "1    D2     Sunny   Hot     High\n",
            "2    D3  Overcast   Hot     High\n",
            "3    D4      Rain  Mild     High\n",
            "4    D5      Rain  Cool   Normal\n",
            "5    D6      Rain  Cool   Normal\n",
            "6    D7  Overcast  Cool   Normal\n",
            "7    D8     Sunny  Mild     High\n",
            "8    D9     Sunny  Cool   Normal\n",
            "9   D10      Rain  Mild   Normal\n",
            "10  D11     Sunny  Mild   Normal\n",
            "11  D12  Overcast  Mild     High\n",
            "12  D13  Overcast   Hot   Normal\n",
            "13  D14      Rain  Mild     High\n",
            "\n",
            "the dependent variable:\n",
            " 0      No\n",
            "1      No\n",
            "2     Yes\n",
            "3     Yes\n",
            "4     Yes\n",
            "5      No\n",
            "6     Yes\n",
            "7      No\n",
            "8     Yes\n",
            "9     Yes\n",
            "10    Yes\n",
            "11    Yes\n",
            "12    Yes\n",
            "13     No\n",
            "Name: play, dtype: object\n"
          ]
        }
      ],
      "source": [
        "data=pd.read_csv(\"C:\\Coding\\ML_python\\machine-learning-lab-main\\datasets\\play_tennis.csv\")\n",
        "X=data.iloc[:,:4]\n",
        "y=data.iloc[:,-1]\n",
        "print(\"the independent variables:\\n\",X)\n",
        "print(\"\\nthe dependent variable:\\n\",y)\n",
        "\n"
      ]
    },
    {
      "cell_type": "code",
      "execution_count": 3,
      "metadata": {
        "colab": {
          "base_uri": "https://localhost:8080/"
        },
        "id": "4jVaqwzFWvVU",
        "outputId": "47b9753d-bc2c-4dac-dde6-3a9435c795ea"
      },
      "outputs": [
        {
          "name": "stderr",
          "output_type": "stream",
          "text": [
            "C:\\Users\\gpega\\AppData\\Local\\Temp\\ipykernel_24040\\3345847121.py:3: SettingWithCopyWarning: \n",
            "A value is trying to be set on a copy of a slice from a DataFrame.\n",
            "Try using .loc[row_indexer,col_indexer] = value instead\n",
            "\n",
            "See the caveats in the documentation: https://pandas.pydata.org/pandas-docs/stable/user_guide/indexing.html#returning-a-view-versus-a-copy\n",
            "  X.iloc[:,i]=le.fit_transform(X.iloc[:,i])\n",
            "C:\\Users\\gpega\\AppData\\Local\\Temp\\ipykernel_24040\\3345847121.py:3: FutureWarning: In a future version, `df.iloc[:, i] = newvals` will attempt to set the values inplace instead of always setting a new array. To retain the old behavior, use either `df[df.columns[i]] = newvals` or, if columns are non-unique, `df.isetitem(i, newvals)`\n",
            "  X.iloc[:,i]=le.fit_transform(X.iloc[:,i])\n"
          ]
        }
      ],
      "source": [
        "le = preprocessing.LabelEncoder()\n",
        "for i in range(4):\n",
        "  X.iloc[:,i]=le.fit_transform(X.iloc[:,i])\n",
        "y=le.fit_transform(y)"
      ]
    },
    {
      "cell_type": "code",
      "execution_count": 4,
      "metadata": {
        "colab": {
          "base_uri": "https://localhost:8080/"
        },
        "id": "MbZ10eqVVfSn",
        "outputId": "af32b018-0058-4a50-e7b7-1bb8fdaa3479"
      },
      "outputs": [
        {
          "name": "stdout",
          "output_type": "stream",
          "text": [
            "training dataset:\n",
            "     day  outlook  temp  humidity\n",
            "13    5        1     2         0\n",
            "9     1        1     2         1\n",
            "1     6        2     1         0\n",
            "7    12        2     2         0\n",
            "10    2        2     2         1\n",
            "3     8        1     2         0\n",
            "0     0        2     1         0\n",
            "5    10        1     0         1\n",
            "12    4        0     1         1 \n",
            " [0 1 0 0 1 1 0 0 1]\n",
            "\n",
            "testing dataset:\n",
            "     day  outlook  temp  humidity\n",
            "8    13        2     0         1\n",
            "6    11        0     0         1\n",
            "4     9        1     0         1\n",
            "11    3        0     2         0\n",
            "2     7        0     1         0 \n",
            " [1 1 1 1 1]\n"
          ]
        }
      ],
      "source": [
        "xtrain, xtest, ytrain, ytest = train_test_split(X, y, test_size=0.3, random_state=0)\n",
        "print(\"training dataset:\\n\",xtrain,\"\\n\",ytrain)\n",
        "print(\"\\ntesting dataset:\\n\",xtest,\"\\n\",ytest)"
      ]
    },
    {
      "cell_type": "code",
      "execution_count": 5,
      "metadata": {
        "colab": {
          "base_uri": "https://localhost:8080/"
        },
        "id": "bdxr9qX6V_DA",
        "outputId": "505c96ec-1499-4caf-f170-792c45ddf401"
      },
      "outputs": [
        {
          "name": "stdout",
          "output_type": "stream",
          "text": [
            "the predicted y values:  [0 0 0 1 1]\n",
            "the test y values:  [1 1 1 1 1]\n",
            "the  root mean squared error of the dataset is:  0.7745966692414834\n",
            "the confusion matrix is:\n",
            " [[0 0]\n",
            " [3 2]]\n"
          ]
        }
      ],
      "source": [
        "gaus= GaussianNB()\n",
        "model= gaus.fit(xtrain, ytrain)\n",
        "ypred=model.predict(xtest)\n",
        "print(\"the predicted y values: \",ypred)\n",
        "print(\"the test y values: \",ytest)\n",
        "print(\"the  root mean squared error of the dataset is: \",mean_squared_error(ytest,ypred,squared=False))\n",
        "mat=confusion_matrix(ytest,ypred)\n",
        "print(\"the confusion matrix is:\\n\",mat)"
      ]
    },
    {
      "cell_type": "code",
      "execution_count": 6,
      "metadata": {
        "colab": {
          "base_uri": "https://localhost:8080/"
        },
        "id": "3Q9IHPm3aNwq",
        "outputId": "ac169407-2406-4253-9ef1-d5f7d978e307"
      },
      "outputs": [
        {
          "name": "stdout",
          "output_type": "stream",
          "text": [
            "the score for the training data set is:  0.4\n",
            "the recall score:  0.4\n",
            "the precision score:  1.0\n",
            "specificity:  1.0\n",
            "sensitivity:  1.0\n"
          ]
        }
      ],
      "source": [
        "print(\"the score for the training data set is: \",model.score(xtest,ytest))\n",
        "print(\"the recall score: \",recall_score(ytest,ypred))\n",
        "print(\"the precision score: \",precision_score(ytest,ypred))\n",
        "sensitivity = mat[1,1]/(mat[0,0]+mat[1,1])\n",
        "specificity = mat[1,0]/(mat[1,0]+mat[0,1])\n",
        "print(\"specificity: \",specificity)\n",
        "print(\"sensitivity: \",sensitivity)"
      ]
    }
  ],
  "metadata": {
    "colab": {
      "provenance": []
    },
    "kernelspec": {
      "display_name": "Python 3.10.8 64-bit (microsoft store)",
      "language": "python",
      "name": "python3"
    },
    "language_info": {
      "codemirror_mode": {
        "name": "ipython",
        "version": 3
      },
      "file_extension": ".py",
      "mimetype": "text/x-python",
      "name": "python",
      "nbconvert_exporter": "python",
      "pygments_lexer": "ipython3",
      "version": "3.10.8"
    },
    "vscode": {
      "interpreter": {
        "hash": "16ad5f302947a3b66b1b76457a723bde1d46ede795495d135bc1a5aeb9f2c819"
      }
    }
  },
  "nbformat": 4,
  "nbformat_minor": 0
}
